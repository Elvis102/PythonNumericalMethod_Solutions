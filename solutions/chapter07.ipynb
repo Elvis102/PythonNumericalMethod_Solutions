{
 "cells": [
  {
   "cell_type": "markdown",
   "metadata": {
    "button": false,
    "new_sheet": false,
    "run_control": {
     "read_only": false
    }
   },
   "source": [
    "<!--BOOK_INFORMATION-->\n",
    "<img align=\"left\" style=\"padding-right:10px;\" src=\"images/book_cover.jpg\" width=\"120\">\n",
    "\n",
    "*This notebook contains an excerpt from the [Python Programming and Numerical Methods - A Guide for Engineers and Scientists](https://www.elsevier.com/books/python-programming-and-numerical-methods/kong/978-0-12-819549-9), the content is also available at [Berkeley Python Numerical Methods](https://pythonnumericalmethods.berkeley.edu/notebooks/Index.html).*\n",
    "\n",
    "*The copyright of the book belongs to Elsevier. We also have this interactive book online for a better learning experience. The code is released under the [MIT license](https://opensource.org/licenses/MIT). If you find this content useful, please consider supporting the work on [Elsevier](https://www.elsevier.com/books/python-programming-and-numerical-methods/kong/978-0-12-819549-9) or [Amazon](https://www.amazon.com/Python-Programming-Numerical-Methods-Scientists/dp/0128195495/ref=sr_1_1?dchild=1&keywords=Python+Programming+and+Numerical+Methods+-+A+Guide+for+Engineers+and+Scientists&qid=1604761352&sr=8-1)!*"
   ]
  },
  {
   "cell_type": "markdown",
   "metadata": {
    "button": false,
    "new_sheet": false,
    "run_control": {
     "read_only": false
    }
   },
   "source": [
    "# Solutions for Problems in Chapter 7"
   ]
  },
  {
   "cell_type": "markdown",
   "metadata": {},
   "source": [
    "1. Describe what are the differences of classes versus objects.\n",
    "\n",
    "Answers:\n",
    "\n",
    "The class is a blueprint to define a logical grouping of data and functions. It provides a way to create data structures that model real-world entities.\n",
    "\n",
    "An object is an instance of the class with actual values. All data and functions of the class can be accessed with the help of objects"
   ]
  },
  {
   "cell_type": "markdown",
   "metadata": {},
   "source": [
    "2. Describe why we use self as the first argument in the methods. \n",
    "\n",
    "Answers:\n",
    "\n",
    "A class instance method must have this extra argument as the first argument when you define it. This particular argument refers to the object itself; conventionally, we use self to name it. Instance methods can freely access attributes and other methods in the same object by using this self parameter."
   ]
  },
  {
   "cell_type": "markdown",
   "metadata": {},
   "source": [
    "3. What is a constructor? And why do we use it?\n",
    "\n",
    "Answers:\n",
    "\n",
    "The constructor is a method that is called when an object is created, that is, it is generally used for instantiating an object. This method is defined in the class and can be used to initialize basic variables."
   ]
  },
  {
   "cell_type": "markdown",
   "metadata": {},
   "source": [
    "4. Describe the differences between class and instance attributes. \n",
    "\n",
    "Answers:\n",
    "\n",
    "Instance attributes are belong to the specific instances of a class. Thus, for two different instances, the instance attributes are usually different.\n",
    "\n",
    "Class attributes are attributes shared with all the instances created from this class. Therefore they have the same value for every instance."
   ]
  },
  {
   "cell_type": "markdown",
   "metadata": {},
   "source": [
    "5. The following is a definition of the class *Point* that takes in the coordinate x, y. Add a method *plot_point* that plot the position of point. \n",
    "\n",
    "    ```python\n",
    "   import matplotlib.pyplot as plt\n",
    "\n",
    "   class Point():\n",
    "       def __init__(self, x, y):\n",
    "           self.x = x\n",
    "           self.y = y\n",
    "    ```"
   ]
  },
  {
   "cell_type": "code",
   "execution_count": 1,
   "metadata": {},
   "outputs": [
    {
     "data": {
      "image/png": "[encoded data removed]",
      "text/plain": [
       "<Figure size 432x288 with 1 Axes>"
      ]
     },
     "metadata": {
      "needs_background": "light"
     },
     "output_type": "display_data"
    }
   ],
   "source": [
    "import matplotlib.pyplot as plt\n",
    "\n",
    "class Point():\n",
    "    def __init__(self, x, y):\n",
    "        self.x = x\n",
    "        self.y = y\n",
    "    \n",
    "    def plot_point(self):\n",
    "        plt.plot(self.x, self.y, 'o')\n",
    "        plt.xlabel('x')\n",
    "        plt.ylabel('y')\n",
    "        plt.show()\n",
    "        \n",
    "point = Point(x=5, y=2)\n",
    "point.plot_point()"
   ]
  },
  {
   "cell_type": "markdown",
   "metadata": {},
   "source": [
    "6. Use the class from problem 5, add a method *calculate_dist* which takes in x and y from another point, and returns the distance calculated between the two points.  "
   ]
  },
  {
   "cell_type": "code",
   "execution_count": 2,
   "metadata": {},
   "outputs": [
    {
     "name": "stdout",
     "output_type": "stream",
     "text": [
      "Distance = 2.0\n"
     ]
    }
   ],
   "source": [
    "import numpy as np\n",
    "\n",
    "class Point():\n",
    "    def __init__(self, x, y):\n",
    "        self.x = x\n",
    "        self.y = y\n",
    "    \n",
    "    def plot_point(self):\n",
    "        plt.plot(self.x, self.y, 'o')\n",
    "        plt.xlabel('x')\n",
    "        plt.ylabel('y')\n",
    "        plt.show()\n",
    "        \n",
    "    def calculate_dist(self, point):\n",
    "        distance = np.sqrt((self.y-point.y)**2 + (self.x-point.x)**2)\n",
    "        return distance\n",
    "    \n",
    "point_1 = Point(2, 3)\n",
    "point_2 = Point(4, 3)\n",
    "\n",
    "distance = point_1.calculate_dist(point_2)\n",
    "print(f'Distance = {distance}')"
   ]
  },
  {
   "cell_type": "markdown",
   "metadata": {},
   "source": [
    "7. What's inheritance? \n",
    "\n",
    "Answers:\n",
    "\n",
    "Inheritance allows us to define a class that inherits all the methods and attributes from another class."
   ]
  },
  {
   "cell_type": "markdown",
   "metadata": {},
   "source": [
    "8. How do we inherit from a superclass and add new methods?\n",
    "\n",
    "We can use the following to inherit from a superclass\n",
    "\n",
    "```python\n",
    "class ClassName(superclass)\n",
    "```\n",
    "\n",
    "We can just add a new method to this new class as we add method to old class. "
   ]
  },
  {
   "cell_type": "markdown",
   "metadata": {},
   "source": [
    "9. When we inherit from a superclass, we need to replace a method with a new one, how do we do that?\n",
    "\n",
    "When we inherit from a parent class, we can change the implementation of a method provided by the parent class by simply re-define the function with the same name but with different content. "
   ]
  },
  {
   "cell_type": "markdown",
   "metadata": {},
   "source": [
    "10. What's the super method? Why do we need it?\n",
    "\n",
    "The super() method lets you access methods from a parent class from within a child class. This helps reduce repetition in your code."
   ]
  },
  {
   "cell_type": "markdown",
   "metadata": {},
   "source": [
    "11. Create a class to model some real world object and create a new class to inherit from it. One example can be the following. You should use a different example and use as many things we learned as possible. "
   ]
  },
  {
   "cell_type": "code",
   "execution_count": 3,
   "metadata": {
    "button": false,
    "new_sheet": false,
    "run_control": {
     "read_only": false
    }
   },
   "outputs": [
    {
     "name": "stdout",
     "output_type": "stream",
     "text": [
      "I am ready to drive!\n",
      "I am still running!\n"
     ]
    }
   ],
   "source": [
    "class Car():\n",
    "    def __init__(self, brand, color):\n",
    "        self.brand = brand\n",
    "        self.color = color\n",
    "    \n",
    "    def start_my_car(self):\n",
    "        print('I am ready to drive!')\n",
    "        \n",
    "class Truck(Car):\n",
    "    def __init__(self, brand, color, size):\n",
    "        super().__init__(brand, color)\n",
    "        self.size = size\n",
    "        \n",
    "    def start_my_car(self, key):\n",
    "        if key == 'truck_key':\n",
    "            print('I am ready to drive!')\n",
    "        else:\n",
    "            print('Key is not right')\n",
    "            \n",
    "    def stop_my_car(self, brake):\n",
    "        if brake:\n",
    "            print('The engine is stopped!')\n",
    "        else:\n",
    "            print('I am still running!')\n",
    "            \n",
    "truck1 = Truck('Toyota', 'Silver', 'Large')\n",
    "truck1.start_my_car('truck_key')\n",
    "truck1.stop_my_car(brake = False)"
   ]
  }
 ],
 "metadata": {
  "kernelspec": {
   "display_name": "Python 3",
   "language": "python",
   "name": "python3"
  },
  "language_info": {
   "codemirror_mode": {
    "name": "ipython",
    "version": 3
   },
   "file_extension": ".py",
   "mimetype": "text/x-python",
   "name": "python",
   "nbconvert_exporter": "python",
   "pygments_lexer": "ipython3",
   "version": "3.6.8"
  }
 },
 "nbformat": 4,
 "nbformat_minor": 2
}
