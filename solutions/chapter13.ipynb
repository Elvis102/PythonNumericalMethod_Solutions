{
 "cells": [
  {
   "cell_type": "markdown",
   "metadata": {
    "button": false,
    "new_sheet": false,
    "run_control": {
     "read_only": false
    }
   },
   "source": [
    "<!--BOOK_INFORMATION-->\n",
    "<img align=\"left\" style=\"padding-right:10px;\" src=\"images/book_cover.jpg\" width=\"120\">\n",
    "\n",
    "*This notebook contains an excerpt from the [Python Programming and Numerical Methods - A Guide for Engineers and Scientists](https://www.elsevier.com/books/python-programming-and-numerical-methods/kong/978-0-12-819549-9), the content is also available at [Berkeley Python Numerical Methods](https://pythonnumericalmethods.berkeley.edu/notebooks/Index.html).*\n",
    "\n",
    "*The copyright of the book belongs to Elsevier. We also have this interactive book online for a better learning experience. The code is released under the [MIT license](https://opensource.org/licenses/MIT). If you find this content useful, please consider supporting the work on [Elsevier](https://www.elsevier.com/books/python-programming-and-numerical-methods/kong/978-0-12-819549-9) or [Amazon](https://www.amazon.com/Python-Programming-Numerical-Methods-Scientists/dp/0128195495/ref=sr_1_1?dchild=1&keywords=Python+Programming+and+Numerical+Methods+-+A+Guide+for+Engineers+and+Scientists&qid=1604761352&sr=8-1)!*"
   ]
  },
  {
   "cell_type": "markdown",
   "metadata": {
    "button": false,
    "new_sheet": false,
    "run_control": {
     "read_only": false
    }
   },
   "source": [
    "# Solutions for Problems in Chapter 13"
   ]
  },
  {
   "cell_type": "markdown",
   "metadata": {
    "button": false,
    "new_sheet": false,
    "run_control": {
     "read_only": false
    }
   },
   "source": [
    "1. What's parallel computing?\n",
    "\n",
    "Answers:\n",
    "\n",
    "The parallel computing is enable us to run the code simultaneously on multiple cores on your CPU processor (or multiple CPU processors) or increase the speed by taking advantage of the wasted CPU cycles while your program is waiting for external resources (i.e., downloading files, API calls, etc.). "
   ]
  },
  {
   "cell_type": "markdown",
   "metadata": {},
   "source": [
    "2. Please specify the difference between process and thread. \n",
    "\n",
    "Answers:\n",
    "\n",
    "A process is an instance of a program (such as the Python interpreter, Jupyter notebook, etc.). A process is created by the operating system to run a program, and each process has its own memory block. \n",
    "\n",
    "A thread is a subprocess that resides within the process. Each process can have multiple threads; these threads will share the same memory block within the process. "
   ]
  },
  {
   "cell_type": "markdown",
   "metadata": {},
   "source": [
    "3. Find out the number of your processors on your computer using the multiprocessing package. "
   ]
  },
  {
   "cell_type": "code",
   "execution_count": 1,
   "metadata": {},
   "outputs": [],
   "source": [
    "import multiprocessing\n",
    "\n",
    "multiprocessing.cpu_count()"
   ]
  },
  {
   "cell_type": "markdown",
   "metadata": {},
   "source": [
    "4. Use multiprocessing package to parallel the following code, and record the running time. Hint: You may need to check out the `pool.apply` function. \n",
    "\n",
    "```python\n",
    "def plus_cube(x, y):\n",
    "    return (x+y)**3\n",
    "\n",
    "for x, y in zip(range(100), range(100)):\n",
    "    results.append(plus_cube(x, y))\n",
    "```"
   ]
  },
  {
   "cell_type": "code",
   "execution_count": 2,
   "metadata": {},
   "outputs": [
    {
     "name": "stdout",
     "output_type": "stream",
     "text": [
      "Time taken 0.0672 seconds\n",
      "The first 3 results: [0, 8, 64]\n"
     ]
    }
   ],
   "source": [
    "import time\n",
    "from multiprocessing import Pool, cpu_count\n",
    "\n",
    "def plus_cube(x, y):\n",
    "    return (x+y)**3\n",
    "\n",
    "starttime = time.time()\n",
    "pool = Pool(processes=cpu_count())\n",
    "    \n",
    "results = [\n",
    "    pool.apply(plus_cube, args=(x, y))\n",
    "    for x, y in zip(range(100), range(100))]\n",
    "\n",
    "pool.close()\n",
    "endtime = time.time()\n",
    "print(f\"Time taken {endtime-starttime:.4f} seconds\")\n",
    "print(f\"The first 3 results: {results[:3]}\")"
   ]
  },
  {
   "cell_type": "markdown",
   "metadata": {},
   "source": [
    "5. Can you provide an example to illustrate the difference of `pool.map` and `pool.map_async`? "
   ]
  },
  {
   "cell_type": "code",
   "execution_count": 3,
   "metadata": {},
   "outputs": [
    {
     "name": "stdout",
     "output_type": "stream",
     "text": [
      "Using pool.map, first 3 results [0, 1, 4]\n"
     ]
    }
   ],
   "source": [
    "def square(x):\n",
    "    return x**2\n",
    "\n",
    "# map\n",
    "pool = Pool(processes=cpu_count())\n",
    "results = pool.map(square, range(100))\n",
    "print(f\"Using pool.map, first 3 results {results[:3]}\")"
   ]
  },
  {
   "cell_type": "code",
   "execution_count": 4,
   "metadata": {},
   "outputs": [
    {
     "data": {
      "text/plain": [
       "<multiprocessing.pool.MapResult at 0x7fb3e8069208>"
      ]
     },
     "execution_count": 4,
     "metadata": {},
     "output_type": "execute_result"
    }
   ],
   "source": [
    "def collect_result(result):\n",
    "    map_async_results.append(result)\n",
    "\n",
    "map_async_results = []\n",
    "# map_async\n",
    "pool.map_async(square, range(100), callback=collect_result)"
   ]
  },
  {
   "cell_type": "code",
   "execution_count": 5,
   "metadata": {},
   "outputs": [
    {
     "name": "stdout",
     "output_type": "stream",
     "text": [
      "Using pool.map_async, first 3 results [0, 1, 4]\n"
     ]
    }
   ],
   "source": [
    "print(f\"Using pool.map_async, first 3 results {map_async_results[0][:3]}\")"
   ]
  },
  {
   "cell_type": "markdown",
   "metadata": {},
   "source": [
    "6. What is Python's GIL?\n",
    "\n",
    "Answers:\n",
    "\n",
    "Python contains an inherent limitation called Global Interpreter Lock (GIL), whereby only one native thread can run at any time, i.e., it prevents multiple threads from running simultaneously."
   ]
  },
  {
   "cell_type": "markdown",
   "metadata": {},
   "source": [
    "7. Use joblib to parallel the above example, and use the multiprocessing as the backend. "
   ]
  },
  {
   "cell_type": "code",
   "execution_count": 6,
   "metadata": {},
   "outputs": [
    {
     "name": "stdout",
     "output_type": "stream",
     "text": [
      "The first 3 results: [0, 8, 64]\n"
     ]
    },
    {
     "name": "stderr",
     "output_type": "stream",
     "text": [
      "[Parallel(n_jobs=-1)]: Using backend MultiprocessingBackend with 12 concurrent workers.\n",
      "[Parallel(n_jobs=-1)]: Done 100 out of 100 | elapsed:    0.0s finished\n"
     ]
    }
   ],
   "source": [
    "from joblib import Parallel, delayed\n",
    "results = Parallel(n_jobs=-1, backend=\"multiprocessing\", \n",
    "                   verbose=1)(delayed(plus_cube)(x, y) \n",
    "                              for x, y in zip(range(100), range(100)))\n",
    "print(f\"The first 3 results: {results[:3]}\")"
   ]
  },
  {
   "cell_type": "code",
   "execution_count": null,
   "metadata": {},
   "outputs": [],
   "source": []
  }
 ],
 "metadata": {
  "kernelspec": {
   "display_name": "Python 3",
   "language": "python",
   "name": "python3"
  },
  "language_info": {
   "codemirror_mode": {
    "name": "ipython",
    "version": 3
   },
   "file_extension": ".py",
   "mimetype": "text/x-python",
   "name": "python",
   "nbconvert_exporter": "python",
   "pygments_lexer": "ipython3",
   "version": "3.6.8"
  }
 },
 "nbformat": 4,
 "nbformat_minor": 2
}
