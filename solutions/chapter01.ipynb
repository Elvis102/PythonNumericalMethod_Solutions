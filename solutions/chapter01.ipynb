{
 "cells": [
  {
   "cell_type": "markdown",
   "metadata": {
    "button": false,
    "new_sheet": false,
    "run_control": {
     "read_only": false
    }
   },
   "source": [
    "<!--BOOK_INFORMATION-->\n",
    "<img align=\"left\" style=\"padding-right:10px;\" src=\"images/book_cover.jpg\" width=\"120\">\n",
    "\n",
    "*This notebook contains an excerpt from the [Python Programming and Numerical Methods - A Guide for Engineers and Scientists](https://www.elsevier.com/books/python-programming-and-numerical-methods/kong/978-0-12-819549-9), the content is also available at [Berkeley Python Numerical Methods](https://pythonnumericalmethods.berkeley.edu/notebooks/Index.html).*\n",
    "\n",
    "*The copyright of the book belongs to Elsevier. We also have this interactive book online for a better learning experience. The code is released under the [MIT license](https://opensource.org/licenses/MIT). If you find this content useful, please consider supporting the work on [Elsevier](https://www.elsevier.com/books/python-programming-and-numerical-methods/kong/978-0-12-819549-9) or [Amazon](https://www.amazon.com/Python-Programming-Numerical-Methods-Scientists/dp/0128195495/ref=sr_1_1?dchild=1&keywords=Python+Programming+and+Numerical+Methods+-+A+Guide+for+Engineers+and+Scientists&qid=1604761352&sr=8-1)!*"
   ]
  },
  {
   "cell_type": "markdown",
   "metadata": {
    "button": false,
    "new_sheet": false,
    "run_control": {
     "read_only": false
    }
   },
   "source": [
    "# Selected Problems for Chapter 1\n",
    "\n",
    "3. Type *import antigravity* in the Ipython Shell, it will take you to xkcd and see the awesome Python."
   ]
  },
  {
   "cell_type": "code",
   "execution_count": 1,
   "metadata": {},
   "outputs": [],
   "source": [
    "import antigravity"
   ]
  },
  {
   "cell_type": "markdown",
   "metadata": {},
   "source": [
    "5. Compute the area of a triangle with base 10 and height 12. Recall that the area of a triangle is half the base times the height."
   ]
  },
  {
   "cell_type": "code",
   "execution_count": 2,
   "metadata": {},
   "outputs": [
    {
     "name": "stdout",
     "output_type": "stream",
     "text": [
      "60.0\n"
     ]
    }
   ],
   "source": [
    "area = 0.5*(10*12)\n",
    "print(area)"
   ]
  },
  {
   "cell_type": "markdown",
   "metadata": {},
   "source": [
    "6. Compute the surface area and volume of a cylinder with radius 5 and height 3.\n",
    "\n",
    "Solutions:\n",
    "Recall that the surface area is $2\\pi r h + 2\\pi r^²$, and the volume is $\\pi r^2h$."
   ]
  },
  {
   "cell_type": "code",
   "execution_count": 2,
   "metadata": {},
   "outputs": [
    {
     "name": "stdout",
     "output_type": "stream",
     "text": [
      "area is 251.33\n",
      "volume is 235.62\n"
     ]
    }
   ],
   "source": [
    "from math import pi\n",
    "r = 5\n",
    "h = 3\n",
    "area = 2*pi*r*h + 2*pi*r**2\n",
    "volume = pi*r**2*h\n",
    "print(f'area is {area:.2f}\\n'\n",
    "      f'volume is {volume:.2f}')"
   ]
  },
  {
   "cell_type": "markdown",
   "metadata": {},
   "source": [
    "7. Compute the slope between the points $(3,4)$ and $(5,9)$. Recall that the slope between points $(x_1,y_1)$ and $(x_2, y_2)$ is $\\frac{y_2 - y_1}{x_2 - x_1}$.\n",
    "\n"
   ]
  },
  {
   "cell_type": "code",
   "execution_count": 3,
   "metadata": {},
   "outputs": [
    {
     "name": "stdout",
     "output_type": "stream",
     "text": [
      "2.5\n"
     ]
    }
   ],
   "source": [
    "x1, y1 = (3, 4)\n",
    "x2, y2 = (5, 9)\n",
    "\n",
    "slope = (y2-y1)/(x2-x1)\n",
    "print(slope)"
   ]
  },
  {
   "cell_type": "markdown",
   "metadata": {},
   "source": [
    "8. Compute the distance between the points $(3,4)$ and $(5,9)$. Recall that the distance between points in two dimensions is $\\sqrt{(x_2 - x_1)^2 + (y_2 - y_1)^2}$."
   ]
  },
  {
   "cell_type": "code",
   "execution_count": 4,
   "metadata": {},
   "outputs": [
    {
     "name": "stdout",
     "output_type": "stream",
     "text": [
      "5.385164807134504\n"
     ]
    }
   ],
   "source": [
    "from math import sqrt\n",
    "x1, y1 = (3, 4)\n",
    "x2, y2 = (5, 9)\n",
    "distance = sqrt((x2-x1)**2+(y2-y1)**2)\n",
    "print(distance)"
   ]
  },
  {
   "cell_type": "markdown",
   "metadata": {},
   "source": [
    "9. Use Python's *factorial* function to compute $6!$"
   ]
  },
  {
   "cell_type": "code",
   "execution_count": 5,
   "metadata": {},
   "outputs": [
    {
     "data": {
      "text/plain": [
       "720"
      ]
     },
     "execution_count": 5,
     "metadata": {},
     "output_type": "execute_result"
    }
   ],
   "source": [
    "from math import factorial\n",
    "factorial(6)"
   ]
  },
  {
   "cell_type": "markdown",
   "metadata": {},
   "source": [
    "10. A year is considered to be 365 days long. However, a more exact figure is 365.24 days. As a consequence, if we held to the standard 365-day year, we would gradually lose that fraction of the day over time, and seasons and other astronomical events would not occur as expected. A leap year is a year that has an extra day, February 29, to keep the timescale on track. Leap years occur on years that are exactly divisible by 4, unless it is exactly divisible by 100, unless it is divisible by 400. For example, the year 2004 is a leap year, the year 1900 is not a leap year, and the year 2000 is a leap year.<br>\n",
    "Compute the number of leap years between the years 1500 and 2010."
   ]
  },
  {
   "cell_type": "code",
   "execution_count": 6,
   "metadata": {},
   "outputs": [
    {
     "name": "stdout",
     "output_type": "stream",
     "text": [
      "Between 1500 to 2010, there are 124 leap years.\n"
     ]
    }
   ],
   "source": [
    "count = 0\n",
    "for year in range(1500, 2011):\n",
    "    if year % 4 == 0 and (year % 100 != 0 or year % 400 == 0):\n",
    "        count += 1\n",
    "print(f'Between 1500 to 2010, there are {count} leap years.')"
   ]
  },
  {
   "cell_type": "markdown",
   "metadata": {},
   "source": [
    "11. A very powerful approximation for $\\pi$ was developed by a brilliant mathematician named Srinivasa Ramanujan. The approximation is the following:<br>\n",
    "$\\frac{1}{\\pi} \\approx \\frac{2\\sqrt{2}}{9801} \\sum_{k=0}^{N} \\frac{(4k)!(1103 + 26390k)}{(k!)^4 396^{4k}}$.<br>\n",
    "Use Ramanujan's formula for $N = 0$ and $N = 1$ to approximate $\\pi$. Be sure to use format long. Compare your approximation with Python's stored value for *pi*. Hint: $0! = 1$ by definition.\n",
    "\n"
   ]
  },
  {
   "cell_type": "code",
   "execution_count": 7,
   "metadata": {},
   "outputs": [
    {
     "name": "stdout",
     "output_type": "stream",
     "text": [
      "For N=0, the approximation of pi=3.1415927300133055\n",
      "For N=1, the approximation of pi=3.1415926535897936\n"
     ]
    }
   ],
   "source": [
    "from math import factorial, sqrt\n",
    "\n",
    "# for N = 0\n",
    "pi_approximation_0 = 1/(2*sqrt(2)/9801*1103)\n",
    "print(f'For N=0, the approximation of pi={pi_approximation_0}')\n",
    "# for N = 1\n",
    "pi_approximation_1 = 1/(2*sqrt(2)/9801*(factorial(4)*(1103+26390)/396**4 + 1103))\n",
    "print(f'For N=1, the approximation of pi={pi_approximation_1}')"
   ]
  },
  {
   "cell_type": "markdown",
   "metadata": {},
   "source": [
    "12. The hyperbolic $sin$ or $sinh$ is defined in terms of exponentials as $sinh(x) = \\frac{\\exp(x) - \\exp(-x)}{2}$.<br>\n",
    "Compute $sinh$ for $x = 2$ using exponentials. Verify that the result is indeed the hyperbolic $sin$ using Python's function *sinh* in the math module. "
   ]
  },
  {
   "cell_type": "code",
   "execution_count": 8,
   "metadata": {},
   "outputs": [
    {
     "name": "stdout",
     "output_type": "stream",
     "text": [
      "calculation using exp approximation 3.626860, and using python function 3.626860\n"
     ]
    }
   ],
   "source": [
    "from math import exp, sinh\n",
    "\n",
    "sinh_exp = (exp(2)  - exp(-2))/2\n",
    "sinh_python = sinh(2)\n",
    "print(f'calculation using exp approximation {sinh_exp:.6f}, '\n",
    "      f'and using python function {sinh_python:.6f}')"
   ]
  },
  {
   "cell_type": "markdown",
   "metadata": {},
   "source": [
    "13. Verify that $\\sin^2(x) + \\cos^2(x) = 1$ for $x = \\pi, \\frac{\\pi}{2}, \\frac{\\pi}{4}, \\frac{\\pi}{6}$."
   ]
  },
  {
   "cell_type": "code",
   "execution_count": 9,
   "metadata": {},
   "outputs": [
    {
     "name": "stdout",
     "output_type": "stream",
     "text": [
      "1.0\n",
      "1.0\n",
      "1.0\n",
      "1.0\n"
     ]
    }
   ],
   "source": [
    "from math import sin, cos, pi\n",
    "for x in [pi, pi/2, pi/4, pi/6]:\n",
    "    print(f\"{sin(x)**2 + cos(x)**2}\")"
   ]
  },
  {
   "cell_type": "markdown",
   "metadata": {},
   "source": [
    "14. Compute the $\\sin87$&deg;."
   ]
  },
  {
   "cell_type": "code",
   "execution_count": 10,
   "metadata": {},
   "outputs": [
    {
     "name": "stdout",
     "output_type": "stream",
     "text": [
      "0.9986295347545738\n"
     ]
    }
   ],
   "source": [
    "from math import sin, pi\n",
    "print(sin(pi/180*87))"
   ]
  },
  {
   "cell_type": "markdown",
   "metadata": {},
   "source": [
    "15. Write a Python statement that generates the following error:<br>\n",
    "\"AttributeError: module 'math' has no attribute 'sni'\"<br>\n",
    "Hint: sni is a misspelling of the function *sin*."
   ]
  },
  {
   "cell_type": "code",
   "execution_count": 11,
   "metadata": {},
   "outputs": [
    {
     "ename": "AttributeError",
     "evalue": "module 'math' has no attribute 'sni'",
     "output_type": "error",
     "traceback": [
      "\u001b[0;31m---------------------------------------------------------------------------\u001b[0m",
      "\u001b[0;31mAttributeError\u001b[0m                            Traceback (most recent call last)",
      "\u001b[0;32m<ipython-input-11-8d52c494222b>\u001b[0m in \u001b[0;36m<module>\u001b[0;34m\u001b[0m\n\u001b[1;32m      1\u001b[0m \u001b[0;32mimport\u001b[0m \u001b[0mmath\u001b[0m\u001b[0;34m\u001b[0m\u001b[0;34m\u001b[0m\u001b[0m\n\u001b[0;32m----> 2\u001b[0;31m \u001b[0mmath\u001b[0m\u001b[0;34m.\u001b[0m\u001b[0msni\u001b[0m\u001b[0;34m(\u001b[0m\u001b[0;36m2\u001b[0m\u001b[0;34m)\u001b[0m\u001b[0;34m\u001b[0m\u001b[0;34m\u001b[0m\u001b[0m\n\u001b[0m",
      "\u001b[0;31mAttributeError\u001b[0m: module 'math' has no attribute 'sni'"
     ]
    }
   ],
   "source": [
    "import math\n",
    "math.sni(2)"
   ]
  },
  {
   "cell_type": "markdown",
   "metadata": {},
   "source": [
    "16. Write a Python statement that generates the following error:<br>\n",
    "\"TypeError: sin() takes exactly one argument (0 given)\"<br>\n",
    "Hint: Input arguments refers to the input of a function (any function); for example, the input in $sin(pi/2)$ is $pi/2$.\n",
    "\n"
   ]
  },
  {
   "cell_type": "code",
   "execution_count": 12,
   "metadata": {},
   "outputs": [
    {
     "ename": "TypeError",
     "evalue": "sin() takes exactly one argument (0 given)",
     "output_type": "error",
     "traceback": [
      "\u001b[0;31m---------------------------------------------------------------------------\u001b[0m",
      "\u001b[0;31mTypeError\u001b[0m                                 Traceback (most recent call last)",
      "\u001b[0;32m<ipython-input-12-e28f6a1ae61e>\u001b[0m in \u001b[0;36m<module>\u001b[0;34m\u001b[0m\n\u001b[1;32m      1\u001b[0m \u001b[0;32mfrom\u001b[0m \u001b[0mmath\u001b[0m \u001b[0;32mimport\u001b[0m \u001b[0msin\u001b[0m\u001b[0;34m\u001b[0m\u001b[0;34m\u001b[0m\u001b[0m\n\u001b[0;32m----> 2\u001b[0;31m \u001b[0msin\u001b[0m\u001b[0;34m(\u001b[0m\u001b[0;34m)\u001b[0m\u001b[0;34m\u001b[0m\u001b[0;34m\u001b[0m\u001b[0m\n\u001b[0m",
      "\u001b[0;31mTypeError\u001b[0m: sin() takes exactly one argument (0 given)"
     ]
    }
   ],
   "source": [
    "from math import sin\n",
    "sin()"
   ]
  },
  {
   "cell_type": "markdown",
   "metadata": {},
   "source": [
    "17. If $P$ is a logical expression, the law of noncontradiction states that $P\\ AND\\ (NOT\\ P)$ is always false. Verify this for $P$ true and $P$ false."
   ]
  },
  {
   "cell_type": "code",
   "execution_count": 13,
   "metadata": {},
   "outputs": [
    {
     "name": "stdout",
     "output_type": "stream",
     "text": [
      "False\n",
      "False\n"
     ]
    }
   ],
   "source": [
    "P = True\n",
    "print(P and (not P))\n",
    "P = False\n",
    "print(P and (not P))"
   ]
  },
  {
   "cell_type": "markdown",
   "metadata": {},
   "source": [
    "18. Let P and Q be logical expressions. De Morgan's rule states that $NOT\\ (P\\ OR\\ Q)\\ =\\ (NOT\\ P)\\ AND\\\n",
    "(NOT\\ Q)$ and $NOT\\ (P\\ AND\\ Q)\\ =\\ (NOT\\ P)\\ OR\\ (NOT\\ Q)$. Generate the truth tables for each statement to show that De Morgan's rule is always true."
   ]
  },
  {
   "cell_type": "code",
   "execution_count": 14,
   "metadata": {},
   "outputs": [
    {
     "name": "stdout",
     "output_type": "stream",
     "text": [
      "if P=True, Q=True, statement 1: True, statement 2: True\n",
      "if P=True, Q=False, statement 1: True, statement 2: True\n",
      "if P=False, Q=True, statement 1: True, statement 2: True\n",
      "if P=False, Q=False, statement 1: True, statement 2: True\n"
     ]
    }
   ],
   "source": [
    "for P in [True, False]:\n",
    "    for Q in [True, False]:\n",
    "        verify_1 = (not (P or Q)) == ((not P) and (not Q))\n",
    "        verify_2 = (not (P and Q)) == ((not P) or (not Q))\n",
    "        print(f'if P={P}, Q={Q}, statement 1: {verify_1}, statement 2: {verify_2}')"
   ]
  },
  {
   "cell_type": "markdown",
   "metadata": {},
   "source": [
    "19. Under what conditions for $P$ and $Q$ is ($P\\ AND\\ Q)\\ OR\\ (P\\ AND\\ (NOT\\ Q)$) false?"
   ]
  },
  {
   "cell_type": "code",
   "execution_count": 15,
   "metadata": {},
   "outputs": [
    {
     "name": "stdout",
     "output_type": "stream",
     "text": [
      "P=False, Q=True\n",
      "P=False, Q=False\n"
     ]
    }
   ],
   "source": [
    "for P in [True, False]:\n",
    "    for Q in [True, False]:\n",
    "        verify_st = (P and Q) or (P and (not Q))\n",
    "        if not verify_st:\n",
    "            print(f'P={P}, Q={Q}')"
   ]
  },
  {
   "cell_type": "markdown",
   "metadata": {},
   "source": [
    "20. Construct an equivalent logical expression for OR using only AND and NOT."
   ]
  },
  {
   "cell_type": "code",
   "execution_count": 16,
   "metadata": {},
   "outputs": [
    {
     "name": "stdout",
     "output_type": "stream",
     "text": [
      "If P=True, and Q=True, equivalent OR is True, Python OR is True\n",
      "If P=True, and Q=False, equivalent OR is True, Python OR is True\n",
      "If P=False, and Q=True, equivalent OR is True, Python OR is True\n",
      "If P=False, and Q=False, equivalent OR is False, Python OR is False\n"
     ]
    }
   ],
   "source": [
    "def equivalent_or(P, Q):\n",
    "    return not((not P) and (not Q))\n",
    "\n",
    "for P in [True, False]:\n",
    "    for Q in [True, False]:\n",
    "        print(f'If P={P}, and Q={Q}, '\n",
    "              f'equivalent OR is {equivalent_or(P, Q)}, '\n",
    "              f'Python OR is {P or Q}')"
   ]
  },
  {
   "cell_type": "markdown",
   "metadata": {},
   "source": [
    "21. Construct an equivalent logical expression for AND using only OR and NOT."
   ]
  },
  {
   "cell_type": "code",
   "execution_count": 17,
   "metadata": {},
   "outputs": [
    {
     "name": "stdout",
     "output_type": "stream",
     "text": [
      "If P=True, and Q=True, equivalent AND is True, Python AND is True\n",
      "If P=True, and Q=False, equivalent AND is False, Python AND is False\n",
      "If P=False, and Q=True, equivalent AND is False, Python AND is False\n",
      "If P=False, and Q=False, equivalent AND is False, Python AND is False\n"
     ]
    }
   ],
   "source": [
    "def equivalent_and(P, Q):\n",
    "    return not((not P) or (not Q))\n",
    "\n",
    "for P in [True, False]:\n",
    "    for Q in [True, False]:\n",
    "        print(f'If P={P}, and Q={Q}, '\n",
    "              f'equivalent AND is {equivalent_and(P, Q)}, '\n",
    "              f'Python AND is {P and Q}')"
   ]
  },
  {
   "cell_type": "markdown",
   "metadata": {},
   "source": [
    "22. The logical operator XOR has the following truth table:<br>\n",
    "Construct an equivalent logical expression for XOR using only AND, OR, and NOT that has the same truth table (see the following figure)"
   ]
  },
  {
   "cell_type": "code",
   "execution_count": 18,
   "metadata": {},
   "outputs": [
    {
     "name": "stdout",
     "output_type": "stream",
     "text": [
      "If P=True, and Q=True, equivalent AND is False, Python XOR is False\n",
      "If P=True, and Q=False, equivalent AND is True, Python XOR is True\n",
      "If P=False, and Q=True, equivalent AND is True, Python XOR is True\n",
      "If P=False, and Q=False, equivalent AND is False, Python XOR is False\n"
     ]
    }
   ],
   "source": [
    "def equivalent_xor(P, Q):\n",
    "    return not ((not (P and (not(P and Q)))) and not(Q and (not(P and Q))))\n",
    "\n",
    "for P in [True, False]:\n",
    "    for Q in [True, False]:\n",
    "        print(f'If P={P}, and Q={Q}, '\n",
    "              f'equivalent AND is {equivalent_xor(P, Q)}, '\n",
    "              f'Python XOR is {P ^ Q}')"
   ]
  },
  {
   "cell_type": "markdown",
   "metadata": {},
   "source": [
    "23. Do the following calculation at the Python command prompt.<br>\n",
    "$e^{2}\\sin{\\pi/6} + log_e(3)\\cos{\\pi/9}-5^3$"
   ]
  },
  {
   "cell_type": "code",
   "execution_count": 19,
   "metadata": {},
   "outputs": [
    {
     "name": "stdout",
     "output_type": "stream",
     "text": [
      "-120.27311408976854\n"
     ]
    }
   ],
   "source": [
    "from math import sin, cos, exp, log, e, pi\n",
    "print(e**2*sin(pi/6) + log(3)*cos(pi/9)-5**3)"
   ]
  },
  {
   "cell_type": "markdown",
   "metadata": {},
   "source": [
    "24. Do the following logical and comparison operations at the Python command prompt. You may assume that P and Q are logical expressions.<br>\n",
    "For P = 1 and Q = 1; Compute $NOT(P)\\ AND\\ NOT(Q)$.<br>\n",
    "For a = 10 and b = 25; Compute $(a<b)\\ AND\\ (a=b)$."
   ]
  },
  {
   "cell_type": "code",
   "execution_count": 20,
   "metadata": {},
   "outputs": [
    {
     "name": "stdout",
     "output_type": "stream",
     "text": [
      "False\n",
      "False\n"
     ]
    }
   ],
   "source": [
    "P = 1\n",
    "Q = 1\n",
    "print(not P and not Q)\n",
    "\n",
    "a = 10\n",
    "b = 25\n",
    "print((a < b) and (a == b))"
   ]
  }
 ],
 "metadata": {
  "kernelspec": {
   "display_name": "Python 3",
   "language": "python",
   "name": "python3"
  },
  "language_info": {
   "codemirror_mode": {
    "name": "ipython",
    "version": 3
   },
   "file_extension": ".py",
   "mimetype": "text/x-python",
   "name": "python",
   "nbconvert_exporter": "python",
   "pygments_lexer": "ipython3",
   "version": "3.6.8"
  }
 },
 "nbformat": 4,
 "nbformat_minor": 2
}
