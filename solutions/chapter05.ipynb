{
 "cells": [
  {
   "cell_type": "markdown",
   "metadata": {
    "button": false,
    "new_sheet": false,
    "run_control": {
     "read_only": false
    }
   },
   "source": [
    "<!--BOOK_INFORMATION-->\n",
    "<img align=\"left\" style=\"padding-right:10px;\" src=\"images/book_cover.jpg\" width=\"120\">\n",
    "\n",
    "*This notebook contains an excerpt from the [Python Programming and Numerical Methods - A Guide for Engineers and Scientists](https://www.elsevier.com/books/python-programming-and-numerical-methods/kong/978-0-12-819549-9), the content is also available at [Berkeley Python Numerical Methods](https://pythonnumericalmethods.berkeley.edu/notebooks/Index.html).*\n",
    "\n",
    "*The copyright of the book belongs to Elsevier. We also have this interactive book online for a better learning experience. The code is released under the [MIT license](https://opensource.org/licenses/MIT). If you find this content useful, please consider supporting the work on [Elsevier](https://www.elsevier.com/books/python-programming-and-numerical-methods/kong/978-0-12-819549-9) or [Amazon](https://www.amazon.com/Python-Programming-Numerical-Methods-Scientists/dp/0128195495/ref=sr_1_1?dchild=1&keywords=Python+Programming+and+Numerical+Methods+-+A+Guide+for+Engineers+and+Scientists&qid=1604761352&sr=8-1)!*"
   ]
  },
  {
   "cell_type": "markdown",
   "metadata": {
    "button": false,
    "new_sheet": false,
    "run_control": {
     "read_only": false
    }
   },
   "source": [
    "# Solutions for Problems in Chapter 5"
   ]
  },
  {
   "cell_type": "code",
   "execution_count": 1,
   "metadata": {},
   "outputs": [],
   "source": [
    "import numpy as np"
   ]
  },
  {
   "cell_type": "markdown",
   "metadata": {},
   "source": [
    "1. What will the value of y be after the following code is executed?"
   ]
  },
  {
   "cell_type": "code",
   "execution_count": 2,
   "metadata": {},
   "outputs": [
    {
     "name": "stdout",
     "output_type": "stream",
     "text": [
      "1000\n"
     ]
    }
   ],
   "source": [
    "y = 0\n",
    "for i in range(1000):\n",
    "    for j in range(1000):\n",
    "        if i == j:\n",
    "            y += 1\n",
    "            \n",
    "print(y)"
   ]
  },
  {
   "cell_type": "markdown",
   "metadata": {},
   "source": [
    "2. Write a function *my_max(x)* to return the maximum (largest) value in *x*. Don't use the built-in Python function *max*."
   ]
  },
  {
   "cell_type": "code",
   "execution_count": 3,
   "metadata": {},
   "outputs": [],
   "source": [
    "def my_max(x):\n",
    "    max_v = x[0]\n",
    "    for num in x[1:]:\n",
    "        if num > max_v:\n",
    "            max_v = num\n",
    "    return max_v"
   ]
  },
  {
   "cell_type": "code",
   "execution_count": 4,
   "metadata": {},
   "outputs": [
    {
     "data": {
      "text/plain": [
       "98"
      ]
     },
     "execution_count": 4,
     "metadata": {},
     "output_type": "execute_result"
    }
   ],
   "source": [
    "my_max([-2, 4, -2, 3, 98, 2])"
   ]
  },
  {
   "cell_type": "markdown",
   "metadata": {},
   "source": [
    "3. Write a function *my_n_max(x, n)* to return a list consisting of the n largest elements of *x*. You may use Python's *max* function. You may also assume that *x* is a one-dimensional list with no duplicate entries, and that *n* is strictly positive integer smaller than the length of *x* "
   ]
  },
  {
   "cell_type": "code",
   "execution_count": 5,
   "metadata": {},
   "outputs": [],
   "source": [
    "def my_n_max(x, n):\n",
    "    \n",
    "    x = sorted(x)\n",
    "    out = x[-1:-n-1:-1]\n",
    "\n",
    "    return out"
   ]
  },
  {
   "cell_type": "code",
   "execution_count": 6,
   "metadata": {},
   "outputs": [
    {
     "name": "stdout",
     "output_type": "stream",
     "text": [
      "[10, 9, 8]\n"
     ]
    }
   ],
   "source": [
    "# Output = [10, 9, 8]\n",
    "x = [7, 9, 10, 5, 8, 3, 4, 6, 2, 1]\n",
    "n = 3\n",
    "out = my_n_max(x, n)\n",
    "print(out)"
   ]
  },
  {
   "cell_type": "markdown",
   "metadata": {},
   "source": [
    "4. Let *m* be a matrix of positive integers. Write a function *my_trig_odd_even(m)* to return an array *q*, where q[i, j] = sin (m[i, j]) if m[i, j] is even, and q[i, j] = cos (m[i, j]) if m[i, j] is odd."
   ]
  },
  {
   "cell_type": "code",
   "execution_count": 7,
   "metadata": {},
   "outputs": [],
   "source": [
    "def my_trig_odd_even(m):\n",
    "    n, k = m.shape\n",
    "    q = np.zeros(m.shape)\n",
    "    for i in range(n):\n",
    "        for j in range(k):\n",
    "            if m[i, j]%2 ==0:\n",
    "                q[i, j] = np.sin(m[i, j])\n",
    "            else:\n",
    "                q[i, j] = np.cos(m[i, j])\n",
    "    return q"
   ]
  },
  {
   "cell_type": "code",
   "execution_count": 8,
   "metadata": {},
   "outputs": [
    {
     "data": {
      "text/plain": [
       "array([[-0.9899925 , -0.7568025 , -0.7568025 ],\n",
       "       [ 0.90929743,  0.54030231, -0.7568025 ]])"
      ]
     },
     "execution_count": 8,
     "metadata": {},
     "output_type": "execute_result"
    }
   ],
   "source": [
    "m = np.array([[3, 4, 4], [2, 1, 4]])\n",
    "my_trig_odd_even(m)"
   ]
  },
  {
   "cell_type": "markdown",
   "metadata": {},
   "source": [
    "5. Let *P* be an $m \\times p$ array and Q be a $p \\times n$ array. As you will find later in this book, $M = P \\times Q$ is defined as $M[i, j] = \\sum_{k=1}^{p}P[i, k]\\cdot Q[k, j]$. Write a function *my_mat_mult(P, Q) that uses for-loops to compute _M_, the matrix product of _P_ and _Q_. Hint: You may need up to three nested for-loops. Do not use the function *np.dot*."
   ]
  },
  {
   "cell_type": "code",
   "execution_count": 9,
   "metadata": {},
   "outputs": [],
   "source": [
    "import numpy as np\n",
    "\n",
    "def my_mat_mult(P, Q):\n",
    "    \n",
    "    m, p = P.shape\n",
    "    p, n = Q.shape\n",
    "    \n",
    "    M = np.zeros((m, n))\n",
    "    \n",
    "    for i in range(m):\n",
    "        for j in range(n):\n",
    "            v = 0\n",
    "            for k in range(p):\n",
    "                v += P[i, k]*Q[k, j]\n",
    "            M[i, j] = v\n",
    "    \n",
    "    return M"
   ]
  },
  {
   "cell_type": "code",
   "execution_count": 10,
   "metadata": {},
   "outputs": [
    {
     "data": {
      "text/plain": [
       "array([[3., 3., 3.],\n",
       "       [3., 3., 3.],\n",
       "       [3., 3., 3.]])"
      ]
     },
     "execution_count": 10,
     "metadata": {},
     "output_type": "execute_result"
    }
   ],
   "source": [
    "# Output:\n",
    "#  array([[3., 3., 3.],\n",
    "#        [3., 3., 3.],\n",
    "#        [3., 3., 3.]])\n",
    "\n",
    "P = np.ones((3, 3))\n",
    "my_mat_mult(P, P)"
   ]
  },
  {
   "cell_type": "code",
   "execution_count": 11,
   "metadata": {},
   "outputs": [
    {
     "data": {
      "text/plain": [
       "array([[30., 30., 30.],\n",
       "       [70., 70., 70.]])"
      ]
     },
     "execution_count": 11,
     "metadata": {},
     "output_type": "execute_result"
    }
   ],
   "source": [
    "# Output:\n",
    "# array([[30, 30, 30],\n",
    "#       [70, 70, 70]])\n",
    "\n",
    "P = np.array([[1, 2, 3, 4], [5, 6, 7, 8]])\n",
    "Q = np.array([[1, 1, 1], [2, 2, 2], [3, 3, 3], [4, 4, 4]])\n",
    "my_mat_mult(P, Q)"
   ]
  },
  {
   "cell_type": "markdown",
   "metadata": {},
   "source": [
    "6. The interest, $i$, on a principle, $P_0$, is a payment for allowing the bank to use your money. Compound interest is accumulated according to the formula $P_n = (1 + i)P_{n-1}$, where n is the compounding period, usually in months or years. Write a function *my_saving_plan(P0, i, goal)* where the output is the number of years it will take $P_0$ to become goal at $i\\%$ interest compounded annually. "
   ]
  },
  {
   "cell_type": "code",
   "execution_count": 12,
   "metadata": {},
   "outputs": [],
   "source": [
    "def my_saving_plan(P0, i, goal):\n",
    "    \n",
    "    years = round(np.log(goal/P0)/np.log(1+i) + 1)\n",
    "    \n",
    "    return years"
   ]
  },
  {
   "cell_type": "code",
   "execution_count": 13,
   "metadata": {},
   "outputs": [
    {
     "data": {
      "text/plain": [
       "15.0"
      ]
     },
     "execution_count": 13,
     "metadata": {},
     "output_type": "execute_result"
    }
   ],
   "source": [
    "# Output: 15\n",
    "my_saving_plan(1000, 0.05, 2000)"
   ]
  },
  {
   "cell_type": "code",
   "execution_count": 14,
   "metadata": {},
   "outputs": [
    {
     "data": {
      "text/plain": [
       "11.0"
      ]
     },
     "execution_count": 14,
     "metadata": {},
     "output_type": "execute_result"
    }
   ],
   "source": [
    "# Output: 11\n",
    "my_saving_plan(1000, 0.07, 2000)"
   ]
  },
  {
   "cell_type": "code",
   "execution_count": 15,
   "metadata": {},
   "outputs": [
    {
     "data": {
      "text/plain": [
       "21.0"
      ]
     },
     "execution_count": 15,
     "metadata": {},
     "output_type": "execute_result"
    }
   ],
   "source": [
    "# Output: 21\n",
    "my_saving_plan(500, 0.07, 2000)"
   ]
  },
  {
   "cell_type": "markdown",
   "metadata": {},
   "source": [
    "7. Write a function with *my_find(M)*, where output is a list of indices *i* where M[i] is 1. You may assume that *M* is a list of only ones and zeros. Do not use the built-in Python function find."
   ]
  },
  {
   "cell_type": "code",
   "execution_count": 16,
   "metadata": {},
   "outputs": [],
   "source": [
    "def my_find(M):\n",
    "    return [i for i, num in enumerate(M) if num==1]"
   ]
  },
  {
   "cell_type": "code",
   "execution_count": 17,
   "metadata": {},
   "outputs": [
    {
     "data": {
      "text/plain": [
       "[0, 2, 3]"
      ]
     },
     "execution_count": 17,
     "metadata": {},
     "output_type": "execute_result"
    }
   ],
   "source": [
    "# Output: [0, 2, 3]\n",
    "\n",
    "M = [1, 0, 1, 1, 0]\n",
    "\n",
    "my_find(M)"
   ]
  },
  {
   "cell_type": "markdown",
   "metadata": {},
   "source": [
    "8. Assume you are rolling two six-sided dice, each side having an equal chance of occurring. Write a function *my_monopoly_dice()*, where the output is the sum of the values of the two dice thrown but with the following extra rule: if the two dice rolls are the same, then another roll is made, and the new sum added to the running total. For example, if the two dice show 3 and 4, then the running total should be 7. If the two dice show 1 and 1, then the running total should be 2 plus the total of another throw. Rolls stop when the dice rolls are different."
   ]
  },
  {
   "cell_type": "code",
   "execution_count": 18,
   "metadata": {},
   "outputs": [],
   "source": [
    "def roll():\n",
    "    # note, the function randint the high is open, therefore, we use 7.\n",
    "    return np.random.randint(1, 7, size=1)[0]\n",
    "\n",
    "def my_monopoly_dice():\n",
    "    running_total = 0\n",
    "    count = 1\n",
    "    while 1:\n",
    "        dice_1 = roll()\n",
    "        dice_2 = roll()\n",
    "        \n",
    "        running_total += dice_1 + dice_2\n",
    "        \n",
    "        print(f'Roll {count}:  dice_1 = {dice_1}, dice_2 = {dice_2}')\n",
    "        if dice_1 != dice_2:\n",
    "            break\n",
    "            \n",
    "        count += 1\n",
    "        \n",
    "    print(f'Running total = {running_total}')\n",
    "    return running_total"
   ]
  },
  {
   "cell_type": "code",
   "execution_count": 19,
   "metadata": {},
   "outputs": [
    {
     "name": "stdout",
     "output_type": "stream",
     "text": [
      "Roll 1:  dice_1 = 5, dice_2 = 1\n",
      "Running total = 6\n"
     ]
    }
   ],
   "source": [
    "running_total = my_monopoly_dice()"
   ]
  },
  {
   "cell_type": "markdown",
   "metadata": {},
   "source": [
    "9. A number is prime if it is divisible without remainder only by itself and 1. The number 1 is not prime. Write a function *my_is_prime(n)*, where output is 1 if *n* is prime and 0 otherwise. Assume that *n* is a strictly positive integer."
   ]
  },
  {
   "cell_type": "code",
   "execution_count": 20,
   "metadata": {},
   "outputs": [],
   "source": [
    "def my_is_prime(n):\n",
    "    if all(n % i for i in range(2, n)):\n",
    "        out = 1\n",
    "    else:\n",
    "        out = 0\n",
    "    return out"
   ]
  },
  {
   "cell_type": "code",
   "execution_count": 21,
   "metadata": {},
   "outputs": [
    {
     "data": {
      "text/plain": [
       "1"
      ]
     },
     "execution_count": 21,
     "metadata": {},
     "output_type": "execute_result"
    }
   ],
   "source": [
    "my_is_prime(17)"
   ]
  },
  {
   "cell_type": "code",
   "execution_count": 22,
   "metadata": {},
   "outputs": [
    {
     "data": {
      "text/plain": [
       "0"
      ]
     },
     "execution_count": 22,
     "metadata": {},
     "output_type": "execute_result"
    }
   ],
   "source": [
    "my_is_prime(8)"
   ]
  },
  {
   "cell_type": "markdown",
   "metadata": {},
   "source": [
    "10. Write a function *my_n_primes(n)* where primes is a list of the first *n* primes. Assume that *n* is a strictly positive integer."
   ]
  },
  {
   "cell_type": "code",
   "execution_count": 23,
   "metadata": {},
   "outputs": [],
   "source": [
    "# Note, we need the function from problem 9. \n",
    "def my_n_primes(n):\n",
    "    num = 2\n",
    "    out = []\n",
    "    while 1:\n",
    "        if my_is_prime(num):\n",
    "            out.append(num)\n",
    "            \n",
    "        if len(out) == n:\n",
    "            break\n",
    "        num += 1\n",
    "            \n",
    "    return out"
   ]
  },
  {
   "cell_type": "code",
   "execution_count": 24,
   "metadata": {},
   "outputs": [
    {
     "data": {
      "text/plain": [
       "[2, 3, 5, 7, 11, 13, 17, 19, 23, 29]"
      ]
     },
     "execution_count": 24,
     "metadata": {},
     "output_type": "execute_result"
    }
   ],
   "source": [
    "my_n_primes(10)"
   ]
  },
  {
   "cell_type": "markdown",
   "metadata": {},
   "source": [
    "11. Write a function *my_n_fib_primes(n)*, where the output *fib_primes* is a list of the first *n* numbers that are both a Fibonacci number and prime. Note: 1 is not prime. Hint: Do not use the recursive implementation of Fibonacci numbers. A function to compute Fibonacci numbers is presented in Section 6.1. You may use the code freely."
   ]
  },
  {
   "cell_type": "code",
   "execution_count": 25,
   "metadata": {},
   "outputs": [],
   "source": [
    "# function from section 6.1\n",
    "def fibonacci(n):\n",
    "    \"\"\"Computes and returns the Fibonacci of n, \n",
    "    a postive integer.\n",
    "    \"\"\"\n",
    "    if n == 1: # first base case\n",
    "        return 1\n",
    "    elif n == 2: # second base case\n",
    "        return 1\n",
    "    else: # Recursive step\n",
    "        return fibonacci(n-1) + fibonacci(n-2) # Recursive call \n",
    "\n",
    "def my_n_fib_primes(n):\n",
    "    \n",
    "    num = 4\n",
    "    fib_primes = []\n",
    "    while 1:\n",
    "        \n",
    "        fib = fibonacci(num)\n",
    "        if my_is_prime(fib):\n",
    "            fib_primes.append(fib)\n",
    "            \n",
    "        if len(fib_primes) == n:\n",
    "            break\n",
    "        num += 1\n",
    "    return fib_primes"
   ]
  },
  {
   "cell_type": "code",
   "execution_count": 26,
   "metadata": {},
   "outputs": [
    {
     "data": {
      "text/plain": [
       "[3, 5, 13, 89, 233, 1597, 28657, 514229]"
      ]
     },
     "execution_count": 26,
     "metadata": {},
     "output_type": "execute_result"
    }
   ],
   "source": [
    "# Output: [3, 5, 13, 89, 233, 1597, 28657, 514229]\n",
    "\n",
    "my_n_fib_primes(8)"
   ]
  },
  {
   "cell_type": "code",
   "execution_count": 27,
   "metadata": {},
   "outputs": [
    {
     "data": {
      "text/plain": [
       "[3, 5, 13]"
      ]
     },
     "execution_count": 27,
     "metadata": {},
     "output_type": "execute_result"
    }
   ],
   "source": [
    "# Output: [3, 5, 13]\n",
    "\n",
    "my_n_fib_primes(3)"
   ]
  },
  {
   "cell_type": "markdown",
   "metadata": {},
   "source": [
    "12. Write a function *my_trig_odd_even(M)*, where the output $Q[i, j] = sin (\\pi/M[i, j])$ if $M[i,j]$ is odd, and $Q[i, j] = cos (\\pi/M[i, j])$ if $M[i, j]$ is even. Assume that M is a two-dimensional array of strictly positive integers."
   ]
  },
  {
   "cell_type": "code",
   "execution_count": 28,
   "metadata": {},
   "outputs": [],
   "source": [
    "def my_trig_odd_even(M):\n",
    "    n, k = M.shape\n",
    "    Q = np.zeros(M.shape)\n",
    "    for i in range(n):\n",
    "        for j in range(k):\n",
    "            if M[i, j]%2 ==0:\n",
    "                Q[i, j] = np.cos(np.pi/M[i, j])\n",
    "            else:\n",
    "                Q[i, j] = np.sin(np.pi/M[i, j])\n",
    "    return Q"
   ]
  },
  {
   "cell_type": "code",
   "execution_count": 29,
   "metadata": {},
   "outputs": [
    {
     "data": {
      "text/plain": [
       "array([[0.8660254 , 0.70710678],\n",
       "       [0.8660254 , 0.43388374]])"
      ]
     },
     "execution_count": 29,
     "metadata": {},
     "output_type": "execute_result"
    }
   ],
   "source": [
    "# Output: [[0.8660, 0.7071], [0.8660, 0.4339]]\n",
    "M = np.array([[3, 4], [6, 7]])\n",
    "my_trig_odd_even(M)"
   ]
  },
  {
   "cell_type": "markdown",
   "metadata": {},
   "source": [
    "13. Let $C$ be a square connectivity array containing zeros and ones. We say that point $i$ has a connection to point $j$ , or $i$ is connected to $j$ , if $C [i , j ] = 1$. Note that connections in this context are one-directional, meaning $C [i , j]$ is not necessarily the same as $C [ j , i ]$. For example, think of a one-way street from point A to point B. If A is connected to B, then B is not necessarily connected to A.\n",
    "\n",
    "Write a function *my_connectivity_mat_2_dict(C, names)*, where *C* is a connectivity array and *names* is a list of strings that denote the name of a point. That is, *names[i]* is the name of the name of the *i-th* point. \n",
    "\n",
    "The output variable *node* should be a dict with the key as the string in *names* and value is a vector containing the indices, j, such that $C[i,j] = 1$. In other words, it is a list of points that point i is connected to."
   ]
  },
  {
   "cell_type": "code",
   "execution_count": 30,
   "metadata": {},
   "outputs": [],
   "source": [
    "def my_connectivity_mat_2_dict(C, names):\n",
    "    node = {}\n",
    "    C = np.array(C)\n",
    "    for i, name in enumerate(names):\n",
    "        node[name] = []\n",
    "        for j in range(C.shape[1]):\n",
    "            if C[i, j]:\n",
    "                node[name].append(j+1)\n",
    "    return node"
   ]
  },
  {
   "cell_type": "code",
   "execution_count": 31,
   "metadata": {},
   "outputs": [],
   "source": [
    "C = [[0, 1, 0, 1], [1, 0, 0, 1], [0, 0, 0, 1], [1, 1, 1, 0]]\n",
    "names = ['Los Angeles', 'New York', 'Miami', 'Dallas']"
   ]
  },
  {
   "cell_type": "code",
   "execution_count": 32,
   "metadata": {},
   "outputs": [
    {
     "name": "stdout",
     "output_type": "stream",
     "text": [
      "{'Los Angeles': [2, 4], 'New York': [1, 4], 'Miami': [4], 'Dallas': [1, 2, 3]}\n"
     ]
    }
   ],
   "source": [
    "# Output: node['Los Angeles'] = [2, 4]\n",
    "#         node['New York'] = [1, 4]\n",
    "#         node['Miami'] = [4]\n",
    "#         node['Dallas'] = [1, 2, 3]\n",
    "\n",
    "node = my_connectivity_mat_2_dict(C, names)\n",
    "print(node)"
   ]
  },
  {
   "cell_type": "markdown",
   "metadata": {},
   "source": [
    "14. Turn the list *words* of lower case characters to upper case using list comprehension. "
   ]
  },
  {
   "cell_type": "code",
   "execution_count": 33,
   "metadata": {},
   "outputs": [
    {
     "data": {
      "text/plain": [
       "['TEST', 'DATA', 'ANALYZE']"
      ]
     },
     "execution_count": 33,
     "metadata": {},
     "output_type": "execute_result"
    }
   ],
   "source": [
    "words = ['test', 'data', 'analyze']\n",
    "\n",
    "[word.upper() for word in words]"
   ]
  }
 ],
 "metadata": {
  "kernelspec": {
   "display_name": "Python 3",
   "language": "python",
   "name": "python3"
  },
  "language_info": {
   "codemirror_mode": {
    "name": "ipython",
    "version": 3
   },
   "file_extension": ".py",
   "mimetype": "text/x-python",
   "name": "python",
   "nbconvert_exporter": "python",
   "pygments_lexer": "ipython3",
   "version": "3.6.8"
  }
 },
 "nbformat": 4,
 "nbformat_minor": 2
}
